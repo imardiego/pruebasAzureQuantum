{
 "cells": [
  {
   "cell_type": "markdown",
   "id": "606ca6e6",
   "metadata": {},
   "source": [
    "### CREACIÓN DE CUENTA Y WORKSPACE EN AZURE QUANTUM   \n",
    "\n",
    " **TODAVÍA NO HA SIDO POSIBLE CONFIGURAR UNA SUSCRIPCIÓN PARA UTILIZAR EL COMPUTADOR AZURE QUANTUM**\n",
    "\n",
    "**aquí solo la conexión con qsharp, en el fichero qiskitAzureQuantum.ipynb ponemos las llamadas  desde qiskit**\n",
    "\n",
    "Ahora que tenemos el programa compilado en el formato correcto, creamos un  **objeto azure.quantum.Workspace**  para conectar con Azure Quantum. \n",
    "\n",
    "Usaremos el identificador de recurso del área de trabajo de Azure Quantum para conectarnos. El identificador de recurso y la ubicación se pueden copiar de la página de información general del área de trabajo en Azure Portal una vez que hayamos creado la cuenta. \n",
    "\n",
    "Necesitamos importar azure.quantum para conectar con el área de trabajo de Azure Quantum\n",
    "\n",
    "import azure.quantum\n",
    "\n",
    "Para ello debo crear una cuenta "
   ]
  },
  {
   "cell_type": "markdown",
   "id": "8a1bc0e4",
   "metadata": {},
   "source": [
    "### Conexión a Azure Quantum y envío del trabajo\n",
    "\n",
    "Suponemos que ya hemos realizado todos los pasos para usar AzureQPU:\n",
    "\n",
    "    - Crear una cuenta en Azure\n",
    "    - Suscribir un programa gratuito o de pago\n",
    "    - Crear un servicio de Azure Quantum creando previamente un espacio de trabajo. \n",
    "\n",
    "Hecho esto ya solo tendría que establecer la conexión mediante mi identificador de recurso y localización de ejecución. \n",
    "\n",
    "    - MyResourceID\n",
    "    - MyLocation\n",
    "\n",
    "\n",
    "Veamos un ejemplo en python simple, (no qiskit)\n",
    "\n",
    "https://learn.microsoft.com/es-es/azure/quantum/how-to-submit-jobs?tabs=tabid-python&pivots=ide-jupyter"
   ]
  },
  {
   "cell_type": "code",
   "execution_count": null,
   "id": "4f6faccb",
   "metadata": {},
   "outputs": [],
   "source": [
    "import qsharp # en el caso de que sea un programa en qsharp.\n",
    "import azure.quantum # importamos azure quantum para usar los backends de qiskit o cirq"
   ]
  },
  {
   "cell_type": "code",
   "execution_count": null,
   "id": "12c6f8c4",
   "metadata": {},
   "outputs": [],
   "source": [
    "#Configuramos el identificador de recurso y la ubicación del área de trabajo de Azure Quantum\n",
    "MyWorkspace = azure.quantum.Workspace(\n",
    "    resource_id = \"MyResourceID\",\n",
    "    location = \"MyLocation\"\n",
    ")"
   ]
  },
  {
   "cell_type": "code",
   "execution_count": null,
   "id": "9d7ade52",
   "metadata": {},
   "outputs": [],
   "source": [
    "#Usamos el método get_targets para ver los computadores disponibles en el área de trabajo:\n",
    "MyTargets = MyWorkspace.get_targets()\n",
    "print(\"This workspace's targets:\")\n",
    "MyTargets"
   ]
  },
  {
   "cell_type": "code",
   "execution_count": null,
   "id": "320ba140",
   "metadata": {},
   "outputs": [],
   "source": [
    "# Seleccionamos uno disponible, por ejemplo :rigetti.sim.qvmtarget\n",
    "MyTarget = MyWorkspace.get_targets(\"rigetti.sim.qvm\")"
   ]
  },
  {
   "cell_type": "code",
   "execution_count": null,
   "id": "857514b1",
   "metadata": {},
   "outputs": [],
   "source": [
    "#Por último, usamos el método submit para enviar el programa con sus parámetros y mostrar los resultados.\n",
    "# MyQuantumJob es el nombre que le damos al trabajo que estará codificado previamente y que es el programa\n",
    "# que queremos ejecutar en el backend seleccionado.\n",
    "job = MyTarget.submit(MyProgram, \"MyQuantumJob\", shots=100)\n",
    "job.get_results()"
   ]
  },
  {
   "cell_type": "code",
   "execution_count": null,
   "id": "78116821",
   "metadata": {},
   "outputs": [],
   "source": [
    "# Todas las propiedades del trabajo son accesibles en job.details, por ejemplo:\n",
    "print(job.details)\n",
    "print(\"\\nJob name:\", job.details.name)\n",
    "print(\"Job status:\", job.details.status)\n",
    "print(\"Job ID:\", job.details.id)"
   ]
  },
  {
   "cell_type": "code",
   "execution_count": null,
   "id": "20ee62f7",
   "metadata": {},
   "outputs": [],
   "source": [
    "# Para obtener los datos del histograma\n",
    "print(job.get_results_histogram()) "
   ]
  },
  {
   "cell_type": "markdown",
   "id": "34c103f5",
   "metadata": {},
   "source": [
    "### Una prueba"
   ]
  },
  {
   "cell_type": "code",
   "execution_count": null,
   "id": "53adb802",
   "metadata": {},
   "outputs": [
    {
     "ename": "ModuleNotFoundError",
     "evalue": "No module named 'qiskit_azure_quantum'",
     "output_type": "error",
     "traceback": [
      "\u001b[31m---------------------------------------------------------------------------\u001b[39m",
      "\u001b[31mModuleNotFoundError\u001b[39m                       Traceback (most recent call last)",
      "\u001b[36mCell\u001b[39m\u001b[36m \u001b[39m\u001b[32mIn[1]\u001b[39m\u001b[32m, line 3\u001b[39m\n\u001b[32m      1\u001b[39m \u001b[38;5;28;01mfrom\u001b[39;00m\u001b[38;5;250m \u001b[39m\u001b[34;01mqiskit\u001b[39;00m\u001b[38;5;250m \u001b[39m\u001b[38;5;28;01mimport\u001b[39;00m QuantumCircuit\n\u001b[32m----> \u001b[39m\u001b[32m3\u001b[39m \u001b[38;5;28;01mfrom\u001b[39;00m\u001b[38;5;250m \u001b[39m\u001b[34;01mqiskit_azure_quantum\u001b[39;00m\u001b[38;5;250m \u001b[39m\u001b[38;5;28;01mimport\u001b[39;00m AzureQuantumProvider\n\u001b[32m      5\u001b[39m \u001b[38;5;66;03m#--- 1. Definir el circuito Bell ---\u001b[39;00m\n\u001b[32m      7\u001b[39m BellJob = QuantumCircuit(\u001b[32m2\u001b[39m, \u001b[32m2\u001b[39m, name=\u001b[33m\"\u001b[39m\u001b[33mBellJob\u001b[39m\u001b[33m\"\u001b[39m)\n",
      "\u001b[31mModuleNotFoundError\u001b[39m: No module named 'qiskit_azure_quantum'"
     ]
    }
   ],
   "source": [
    "# %pip install qiskit-azure-quantum  no instalar nada código quizás deprecado mirar ante pip install azure-quantum[qiskit]\n",
    "\n",
    "from qiskit import QuantumCircuit\n",
    "\n",
    "from qiskit_azure_quantum import AzureQuantumProvider\n",
    "\n",
    "#--- 1. Definir el circuito Bell ---\n",
    "\n",
    "BellJob = QuantumCircuit(2, 2, name=\"BellJob\")\n",
    "BellJob.h(0)\n",
    "BellJob.cx(0, 1)\n",
    "BellJob.measure([0,1], [0,1])\n",
    "\n",
    "# --- 2. Conectarse al workspace de Azure Quantum ---\n",
    "# Sustituyo estos valores por los de mi workspace\n",
    "\n",
    "provider = AzureQuantumProvider(\n",
    "    resource_id=\"RESOURCE_ID_DE_TU_WORKSPACE\",\n",
    "    location=\"LOCATION_DE_TU_WORKSPACE\"  # Ej: \"westeurope\" o \"eastus\"\n",
    ")\n",
    "\n",
    "#--- 3. Elegir un backend ---\n",
    "# Ejemplo con simulador (puede ser \"microsoft.estimator\" o hardware de un partner como IonQ, Quantinuum, Rigetti...)\n",
    "\n",
    "backend = provider.get_backend(\"ionq.simulator\")\n",
    "\n",
    "# --- 4. Ejecutar el job ---\n",
    "\n",
    "job = backend.run(BellJob, shots=1000)\n",
    "\n",
    "#--- 5. Esperar resultados ---\n",
    "\n",
    "result = job.result()\n",
    "print(\"Resultados de BellJob:\", result.get_counts())"
   ]
  }
 ],
 "metadata": {
  "kernelspec": {
   "display_name": "CondaCodingAzureQuantumEnvironment",
   "language": "python",
   "name": "python3"
  },
  "language_info": {
   "codemirror_mode": {
    "name": "ipython",
    "version": 3
   },
   "file_extension": ".py",
   "mimetype": "text/x-python",
   "name": "python",
   "nbconvert_exporter": "python",
   "pygments_lexer": "ipython3",
   "version": "3.13.5"
  }
 },
 "nbformat": 4,
 "nbformat_minor": 5
}
